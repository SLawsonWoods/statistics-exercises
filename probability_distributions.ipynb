{
 "cells": [
  {
   "cell_type": "code",
   "execution_count": 11,
   "id": "0adf6dcc",
   "metadata": {},
   "outputs": [],
   "source": [
    "import matplotlib.pyplot as plt\n",
    "import seaborn as sns\n",
    "import numpy as np\n",
    "from scipy import stats\n",
    "\n",
    "np.random.seed(123)"
   ]
  },
  {
   "cell_type": "markdown",
   "id": "63ad24bf",
   "metadata": {},
   "source": [
    "1. A bank found that the average number of cars waiting during the noon hour at a drive-up window follows a Poisson distribution with a mean of 2 cars. Make a chart of this distribution and answer these questions concerning the probability of cars waiting at the drive-up window.\n",
    "\n",
    "What is the probability that no cars drive up in the noon hour?\n",
    "What is the probability that 3 or more cars come through the drive through?\n",
    "How likely is it that the drive through gets at least 1 car?"
   ]
  },
  {
   "cell_type": "code",
   "execution_count": 14,
   "id": "1009eaf7",
   "metadata": {},
   "outputs": [
    {
     "data": {
      "text/plain": [
       "0.1353352832366127"
      ]
     },
     "execution_count": 14,
     "metadata": {},
     "output_type": "execute_result"
    }
   ],
   "source": [
    "#A What is the probability that no cars drive up in the noon hour?\n",
    "# example poisson stats.poisson(5).pmf(3)\n",
    "stats.poisson(2)\n",
    "#probability there are no cars in the noon hour - have number - need probability\n",
    "# problem says equal to zero so use .cdf or .ppf\n",
    "# pmf is exactly equal to\n",
    "#have value so .pmf\n",
    "stats.poisson(2).pmf(0)"
   ]
  },
  {
   "cell_type": "code",
   "execution_count": 17,
   "id": "556a556f",
   "metadata": {},
   "outputs": [
    {
     "data": {
      "text/plain": [
       "Text(0, 0.5, 'probability of seeing x number of cars')"
      ]
     },
     "execution_count": 17,
     "metadata": {},
     "output_type": "execute_result"
    },
    {
     "data": {
      "image/png": "[encoded data removed]",
      "text/plain": [
       "<Figure size 432x288 with 1 Axes>"
      ]
     },
     "metadata": {
      "needs_background": "light"
     },
     "output_type": "display_data"
    }
   ],
   "source": [
    "# make a chart, generate random numbers\n",
    "x = range(0,15)\n",
    "y = stats.poisson(2).pmf(x)\n",
    "y\n",
    "plt.bar(x,y)\n",
    "plt.title(\"Likelihood of seeing a specific number of cars in the drive through\")\n",
    "# add labels for x and y x is cars, y is prob of seeing that number of cars\n",
    "plt.xlabel(\"number of cars\")\n",
    "plt.ylabel(\"probability of seeing x number of cars\")"
   ]
  },
  {
   "cell_type": "code",
   "execution_count": 18,
   "id": "9aae4626",
   "metadata": {},
   "outputs": [
    {
     "data": {
      "text/plain": [
       "0.32332358381693654"
      ]
     },
     "execution_count": 18,
     "metadata": {},
     "output_type": "execute_result"
    }
   ],
   "source": [
    "#B What is the probability that 3 or more cars come through the drive through?\n",
    "# example poisson stats.poisson(5).pmf(3)\n",
    "stats.poisson(2)\n",
    "# probability that there are 3 cars\n",
    "#have value need prob so .sf\n",
    "# .sf would give me only more than 3 so subtract one to include 3\n",
    "stats.poisson(2).sf(2)\n"
   ]
  },
  {
   "cell_type": "code",
   "execution_count": 19,
   "id": "974a0b9f",
   "metadata": {},
   "outputs": [
    {
     "data": {
      "text/plain": [
       "0.8646647167633873"
      ]
     },
     "execution_count": 19,
     "metadata": {},
     "output_type": "execute_result"
    }
   ],
   "source": [
    "#C How likely is it that the drive through gets at least 1 car?\n",
    "# at least means 1 or more so value greater than\n",
    "# have value means use .sf \n",
    "# minus 1 to include 1\n",
    "stats.poisson(2).sf(0)"
   ]
  },
  {
   "cell_type": "markdown",
   "id": "8e9ca677",
   "metadata": {},
   "source": [
    "2. Grades of State University graduates are normally distributed with a mean of 3.0 and a standard deviation of .3. Calculate the following:\n",
    "\n",
    "What grade point average is required to be in the top 5% of the graduating class?\n",
    "What GPA constitutes the bottom 15% of the class?\n",
    "An eccentric alumnus left scholarship money for students in the third decile from the bottom of their class. Determine the range of the third decile. Would a student with a 2.8 grade point average qualify for this scholarship?\n",
    "If I have a GPA of 3.5, what percentile am I in?"
   ]
  },
  {
   "cell_type": "code",
   "execution_count": 32,
   "id": "41f245da",
   "metadata": {},
   "outputs": [
    {
     "data": {
      "text/plain": [
       "3.4934560880854417"
      ]
     },
     "execution_count": 32,
     "metadata": {},
     "output_type": "execute_result"
    }
   ],
   "source": [
    "#A What grade point average is required to be in the top 5% of the graduating class?\n",
    "# Use .ppf because we want to find the value and have the prob\n",
    "top_5 = stats.norm(3,.3)\n",
    "top_5_cutoff = top_5.isf(.05)\n",
    "top_5_cutoff\n"
   ]
  },
  {
   "cell_type": "code",
   "execution_count": 34,
   "id": "eb612e6c",
   "metadata": {},
   "outputs": [
    {
     "data": {
      "text/plain": [
       "2.689069983151863"
      ]
     },
     "execution_count": 34,
     "metadata": {},
     "output_type": "execute_result"
    }
   ],
   "source": [
    "# What GPA constitutes the bottom 15% of the class?\n",
    "# less than or equal to a given point and we have the prob means use .ppf\n",
    "bottom_15 = stats.norm.ppf(.15, 3, .3)\n",
    "bottom_15"
   ]
  },
  {
   "cell_type": "code",
   "execution_count": null,
   "id": "2ca6fd57",
   "metadata": {},
   "outputs": [],
   "source": [
    "# Third decile from the bottom, what is the range of the third decile, does GPA of 2.8 gpa qualify\n",
    "# we don't have the number of students in the class so how could i use the formula below?\n"
   ]
  },
  {
   "cell_type": "code",
   "execution_count": 38,
   "id": "259b1767",
   "metadata": {},
   "outputs": [
    {
     "data": {
      "text/plain": [
       "array([2.74751363, 2.84267985])"
      ]
     },
     "execution_count": 38,
     "metadata": {},
     "output_type": "execute_result"
    }
   ],
   "source": [
    "# range 20-30% for bottom decile\n",
    "x=([.2,.3])\n",
    "stats.norm(3,.3).ppf(x)\n",
    "# Yes 2.8 would qualify"
   ]
  },
  {
   "cell_type": "code",
   "execution_count": 43,
   "id": "e5024afe",
   "metadata": {},
   "outputs": [
    {
     "data": {
      "text/plain": [
       "0.3315904626424956"
      ]
     },
     "execution_count": 43,
     "metadata": {},
     "output_type": "execute_result"
    }
   ],
   "source": [
    "# If I have a GPA of 3.5, what percentile am I in?\n",
    "stats.norm(3,.3).pdf(3.5)"
   ]
  },
  {
   "cell_type": "code",
   "execution_count": 46,
   "id": "52e45625",
   "metadata": {},
   "outputs": [
    {
     "data": {
      "text/plain": [
       "0.9522096477271853"
      ]
     },
     "execution_count": 46,
     "metadata": {},
     "output_type": "execute_result"
    }
   ],
   "source": [
    "stats.norm(3,.3).cdf(3.5)"
   ]
  },
  {
   "cell_type": "code",
   "execution_count": 45,
   "id": "7d90a4d8",
   "metadata": {},
   "outputs": [
    {
     "data": {
      "text/plain": [
       "0.0477903522728147"
      ]
     },
     "execution_count": 45,
     "metadata": {},
     "output_type": "execute_result"
    }
   ],
   "source": [
    "stats.norm(3,.3).sf(3.5)"
   ]
  },
  {
   "cell_type": "code",
   "execution_count": null,
   "id": "b86af6f8",
   "metadata": {},
   "outputs": [],
   "source": []
  },
  {
   "cell_type": "code",
   "execution_count": 49,
   "id": "91cb077c",
   "metadata": {},
   "outputs": [
    {
     "data": {
      "text/plain": [
       "0.1397582363130086"
      ]
     },
     "execution_count": 49,
     "metadata": {},
     "output_type": "execute_result"
    }
   ],
   "source": [
    "3 # A marketing website has an average click-through rate of 2%. One day they observe 4326 visitors and 97 \n",
    "# click-throughs. How likely is it that this many people or more click through?\n",
    "# use .isf because you need to find value greater than\n",
    "stats.binom(4326, .02).sf(96)"
   ]
  },
  {
   "cell_type": "code",
   "execution_count": null,
   "id": "bb450578",
   "metadata": {},
   "outputs": [],
   "source": [
    "# 4 You are working on some statistics homework consisting of 100 questions where all of the answers are a \n",
    "# probability rounded to the hundreths place. Looking to save time, you put down random probabilities as the \n",
    "# answer to each question.\n",
    "\n",
    "#What is the probability that at least one of your first 60 answers is correct?\n",
    "# use 0 because not inclusive and need one answer\n",
    "stats.binom(60,.01).sf(0)"
   ]
  },
  {
   "cell_type": "code",
   "execution_count": 58,
   "id": "e367b00e",
   "metadata": {},
   "outputs": [
    {
     "data": {
      "text/plain": [
       "0.8342199288437355"
      ]
     },
     "execution_count": 58,
     "metadata": {},
     "output_type": "execute_result"
    }
   ],
   "source": [
    "# 5 The codeup staff tends to get upset when the student break area is not cleaned up. Suppose that there's a 3% \n",
    "# chance that any one student cleans the break area when they visit it, and, on any given day, about 90% of the 3 \n",
    "# active cohorts of 22 students visit the break area. How likely is it that the break area gets cleaned up each day?\n",
    "# binom because \n",
    "# Use .sf because its the probability this happens at least once each day\n",
    "stats.binom(59.4,.03).sf(0)\n",
    "# How likely is it that it goes two days without getting cleaned up? All week?"
   ]
  },
  {
   "cell_type": "code",
   "execution_count": 56,
   "id": "4f5ac2a7",
   "metadata": {},
   "outputs": [
    {
     "data": {
      "text/plain": [
       "59.400000000000006"
      ]
     },
     "execution_count": 56,
     "metadata": {},
     "output_type": "execute_result"
    }
   ],
   "source": [
    ".9*22*3"
   ]
  },
  {
   "cell_type": "code",
   "execution_count": 63,
   "id": "39a01e24",
   "metadata": {},
   "outputs": [
    {
     "data": {
      "text/plain": [
       "0.46828597419398454"
      ]
     },
     "execution_count": 63,
     "metadata": {},
     "output_type": "execute_result"
    }
   ],
   "source": [
    "# How likely is it that it goes two days without getting cleaned up? All week?\n",
    "stats.binom(59.4,.03).cdf(1)"
   ]
  },
  {
   "cell_type": "code",
   "execution_count": null,
   "id": "161f4063",
   "metadata": {},
   "outputs": [],
   "source": [
    "# All week?"
   ]
  }
 ],
 "metadata": {
  "kernelspec": {
   "display_name": "Python 3",
   "language": "python",
   "name": "python3"
  },
  "language_info": {
   "codemirror_mode": {
    "name": "ipython",
    "version": 3
   },
   "file_extension": ".py",
   "mimetype": "text/x-python",
   "name": "python",
   "nbconvert_exporter": "python",
   "pygments_lexer": "ipython3",
   "version": "3.8.8"
  }
 },
 "nbformat": 4,
 "nbformat_minor": 5
}
