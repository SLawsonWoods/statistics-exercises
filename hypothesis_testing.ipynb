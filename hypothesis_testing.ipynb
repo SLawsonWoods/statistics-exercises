{
 "cells": [
  {
   "cell_type": "code",
   "execution_count": 2,
   "id": "a8e956aa",
   "metadata": {},
   "outputs": [],
   "source": [
    "from pydataset import data\n",
    "\n",
    "import pandas as pd\n",
    "import numpy as np\n",
    "\n",
    "from scipy import stats\n",
    "\n",
    "import matplotlib.pyplot as plt"
   ]
  },
  {
   "cell_type": "markdown",
   "id": "dd3ea5f7",
   "metadata": {},
   "source": [
    "For each of the following questions, formulate a null and alternative hypothesis (be as specific as you can be), then give an example of what a true positive, true negative, type I and type II errors would look like. Note that some of the questions are intentionally phrased in a vague way. It is your job to reword these as more precise questions that could be tested."
   ]
  },
  {
   "cell_type": "markdown",
   "id": "800b8e02",
   "metadata": {},
   "source": [
    "Example\n",
    "1a. Do those who churn spend more than those who do not churn?\n",
    "$H_{0}$: avg spend for those who churn <= avg spend for those who don't.\n",
    "$H_{a}$: avg spend for thos who churn > avg spend for those who don't."
   ]
  },
  {
   "cell_type": "markdown",
   "id": "029f7cb4",
   "metadata": {},
   "source": [
    "A type I error is when we reject the null hypothesis, but, in reality, the null hypothesis is true.\n",
    "A type II error is when we fail to reject the null hypothesis when it is actually false."
   ]
  },
  {
   "cell_type": "code",
   "execution_count": null,
   "id": "17e5ed5e",
   "metadata": {},
   "outputs": [],
   "source": [
    "# Q 1.Has the network latency gone up since we switched internet service providers?\n",
    "# Hypothesis: The network latency has not gone up since we switched providers.\n",
    "# $H_{0}$ Network latency is less than or has stayed the same since we switched internet service providers.\n",
    "# $H_{a}$ Network latency has gone up since we switched providers"
   ]
  },
  {
   "cell_type": "markdown",
   "id": "b9eb25e7",
   "metadata": {},
   "source": [
    "Type I error: Reject that network latency has not gone up since we switched providers.  But it has.\n",
    "Type II error: Accept that the network latency has not gone up since we switched providers. But it has not."
   ]
  },
  {
   "cell_type": "code",
   "execution_count": null,
   "id": "5ed5dde6",
   "metadata": {},
   "outputs": [],
   "source": [
    "# Q 2.Is the website redesign any good?\n",
    "# Hypothesis: The website redesign is a great improvement.\n",
    "# $H_{0}$ The website design made no improvement to design.\n",
    "# $H_{a}$ The website design is worse or better than the original."
   ]
  },
  {
   "cell_type": "code",
   "execution_count": null,
   "id": "267874c5",
   "metadata": {},
   "outputs": [],
   "source": [
    "Type I error: Reject that the website redesign made no improvement.  But it made improvement.\n",
    "Type II error: Accept that the website redesign made no impovement. But it made no improvement."
   ]
  },
  {
   "cell_type": "code",
   "execution_count": null,
   "id": "33b644a8",
   "metadata": {},
   "outputs": [],
   "source": [
    "# Q 3. Is our television ad driving more sales?\n",
    "# Hypothesis: Our television ad is driving more sales.\n",
    "# $H_{0}$ Our television ad is not increasing or it is maintaining proir level of sales.\n",
    "# $H_{a}$ Our television ad is increasing sales."
   ]
  },
  {
   "cell_type": "markdown",
   "id": "22e0e969",
   "metadata": {},
   "source": [
    "Type I error: Reject that our tv ad is not increasing sales. But it is not increasing sales.\n",
    "Type II error: Accept that our tv ad is not increasing sales. But it is increasing sales."
   ]
  }
 ],
 "metadata": {
  "kernelspec": {
   "display_name": "Python 3",
   "language": "python",
   "name": "python3"
  },
  "language_info": {
   "codemirror_mode": {
    "name": "ipython",
    "version": 3
   },
   "file_extension": ".py",
   "mimetype": "text/x-python",
   "name": "python",
   "nbconvert_exporter": "python",
   "pygments_lexer": "ipython3",
   "version": "3.8.8"
  }
 },
 "nbformat": 4,
 "nbformat_minor": 5
}
