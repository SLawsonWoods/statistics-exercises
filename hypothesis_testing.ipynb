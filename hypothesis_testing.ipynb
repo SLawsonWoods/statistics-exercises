{
 "cells": [
  {
   "cell_type": "code",
   "execution_count": 4,
   "id": "c8998a49",
   "metadata": {},
   "outputs": [],
   "source": [
    "from pydataset import data\n",
    "\n",
    "import pandas as pd\n",
    "import numpy as np\n",
    "\n",
    "from scipy import stats\n",
    "\n",
    "import matplotlib.pyplot as plt\n",
    "df= pd.read_csv(\"clean_telco.csv\")"
   ]
  },
  {
   "cell_type": "markdown",
   "id": "eeffb9af",
   "metadata": {},
   "source": [
    "For each of the following questions, formulate a null and alternative hypothesis (be as specific as you can be), then give an example of what a true positive, true negative, type I and type II errors would look like. Note that some of the questions are intentionally phrased in a vague way. It is your job to reword these as more precise questions that could be tested."
   ]
  },
  {
   "cell_type": "markdown",
   "id": "c845b269",
   "metadata": {},
   "source": [
    "Example\n",
    "1a. Do those who churn spend more than those who do not churn?\n",
    "$H_{0}$: avg spend for those who churn <= avg spend for those who don't.\n",
    "$H_{a}$: avg spend for thos who churn > avg spend for those who don't."
   ]
  },
  {
   "cell_type": "markdown",
   "id": "6b51b6f0",
   "metadata": {},
   "source": [
    "A type I error is when we reject the null hypothesis, but, in reality, the null hypothesis is true.\n",
    "A type II error is when we fail to reject the null hypothesis when it is actually false."
   ]
  },
  {
   "cell_type": "code",
   "execution_count": null,
   "id": "fc44c43e",
   "metadata": {},
   "outputs": [],
   "source": [
    "# Q 1.Has the network latency gone up since we switched internet service providers?\n",
    "# Hypothesis: The network latency has not gone up since we switched providers.\n",
    "# $H_{0}$ Network latency is less than or has stayed the same since we switched internet service providers.\n",
    "# $H_{a}$ Network latency has gone up since we switched providers"
   ]
  },
  {
   "cell_type": "markdown",
   "id": "2b649335",
   "metadata": {},
   "source": [
    "Type I error: Reject that network latency has not gone up since we switched providers.  But it has.\n",
    "Type II error: Accept that the network latency has not gone up since we switched providers. But it has not."
   ]
  },
  {
   "cell_type": "code",
   "execution_count": null,
   "id": "d1515dab",
   "metadata": {},
   "outputs": [],
   "source": [
    "# Q 2.Is the website redesign any good?\n",
    "# Hypothesis: The website redesign is a great improvement.\n",
    "# $H_{0}$ The website design made no improvement to design.\n",
    "# $H_{a}$ The website design is worse or better than the original."
   ]
  },
  {
   "cell_type": "code",
   "execution_count": null,
   "id": "ddab3bd0",
   "metadata": {},
   "outputs": [],
   "source": [
    "Type I error: Reject that the website redesign made no improvement.  But it made improvement.\n",
    "Type II error: Accept that the website redesign made no impovement. But it made no improvement."
   ]
  },
  {
   "cell_type": "code",
   "execution_count": null,
   "id": "261c76a2",
   "metadata": {},
   "outputs": [],
   "source": [
    "# Q 3. Is our television ad driving more sales?\n",
    "# Hypothesis: Our television ad is driving more sales.\n",
    "# $H_{0}$ Our television ad is not increasing or it is maintaining proir level of sales.\n",
    "# $H_{a}$ Our television ad is increasing sales."
   ]
  },
  {
   "cell_type": "markdown",
   "id": "f6dc7645",
   "metadata": {},
   "source": [
    "Type I error: Reject that our tv ad is not increasing sales. But it is not increasing sales.\n",
    "Type II error: Accept that our tv ad is not increasing sales. But it is increasing sales."
   ]
  },
  {
   "cell_type": "code",
   "execution_count": null,
   "id": "91a35326",
   "metadata": {},
   "outputs": [],
   "source": [
    "# NEXT SET OF EX. T-TEST"
   ]
  },
  {
   "cell_type": "code",
   "execution_count": 5,
   "id": "c250632c",
   "metadata": {},
   "outputs": [],
   "source": [
    "from math import sqrt\n",
    "from scipy import stats\n",
    "\n",
    "%matplotlib inline\n",
    "import matplotlib.pyplot as plt\n",
    "import numpy as np\n",
    "import pandas as pd\n",
    "import seaborn as sns\n",
    "\n",
    "url = \"https://gist.githubusercontent.com/ryanorsinger/2c13a71421037af127e9fa7fa1463cad/raw/3eb443414078b51af33fdb2d211159e5f3e220ab/exam_scores.csv\"\n",
    "df = pd.read_csv(url)\n",
    "\n",
    "df.study_strategy.fillna('None', inplace=True)\n",
    "df= pd.read_csv(\"clean_telco.csv\")"
   ]
  },
  {
   "cell_type": "code",
   "execution_count": null,
   "id": "01708066",
   "metadata": {},
   "outputs": [],
   "source": [
    "## 1. \n",
    "office_1_mean = 90\n",
    "office_2_mean = 100\n",
    "s1\n"
   ]
  },
  {
   "cell_type": "markdown",
   "id": "06b8a880",
   "metadata": {},
   "source": [
    "Example\n",
    "x1 = df[df.study_strategy == 'flashcards'].exam_score\n",
    "x2 = df[df.study_strategy != 'flashcards'].exam_score\n",
    "\n",
    "xbar1 = x1.mean()\n",
    "xbar2 = x2.mean()\n",
    "\n",
    "n1 = x1.shape[0]\n",
    "n2 = x2.shape[0]\n",
    "\n",
    "s1 = x1.std()\n",
    "s2 = x2.std()\n",
    "\n",
    "degf = n1 + n2 - 2\n",
    "\n",
    "s_p = sqrt(((n1 - 1) * s1**2 + (n2 - 1) * s2**2) / (n1 + n2 - 2))\n",
    "s_p\n",
    "\n",
    "standard_error = se = sqrt(s1**2 / n1 + s2**2 / n2)\n",
    "\n",
    "t = (xbar1 - xbar2) / (s_p * sqrt(1/n1 + 1/n2))\n",
    "t"
   ]
  },
  {
   "cell_type": "code",
   "execution_count": 34,
   "id": "9936fee1",
   "metadata": {
    "scrolled": true
   },
   "outputs": [
    {
     "data": {
      "text/plain": [
       "-2.6252287036468456"
      ]
     },
     "execution_count": 34,
     "metadata": {},
     "output_type": "execute_result"
    }
   ],
   "source": [
    "xbar1 = 90 \n",
    "xbar2 = 100\n",
    "\n",
    "s1 = 15 \n",
    "s2 = 20\n",
    "n1 = 40\n",
    "n2 = 50\n",
    "degf = n1 + n2 - 2\n",
    "\n",
    "s_p = sqrt(((n1 - 1) *  s1**2 +(n2 -1) * s2**2) / (n1 + n2 - 2))\n",
    "\n",
    "standrd_error = se = sqrt(s1**2 / n1 + s2**2 / n2)\n",
    "t = (xbar1 - xbar2) / (s_p * sqrt(1/n1 + 1/n2))\n",
    "t"
   ]
  },
  {
   "cell_type": "code",
   "execution_count": 36,
   "id": "94843f73",
   "metadata": {},
   "outputs": [],
   "source": [
    "## p low reject HO\n",
    "## The H0: There is no difference\n",
    "## H1There is a difference"
   ]
  },
  {
   "cell_type": "code",
   "execution_count": 48,
   "id": "33584d17",
   "metadata": {},
   "outputs": [
    {
     "data": {
      "text/plain": [
       "(2.6252287036468456, 0.01020985244923939)"
      ]
     },
     "execution_count": 48,
     "metadata": {},
     "output_type": "execute_result"
    }
   ],
   "source": [
    "# This is in the documentation towards the bottom\n",
    "t, p = stats.ttest_ind_from_stats(100, 20, 50, 90, 15, 40)\n",
    "t,p"
   ]
  },
  {
   "cell_type": "code",
   "execution_count": 47,
   "id": "d2c0394c",
   "metadata": {},
   "outputs": [
    {
     "name": "stdout",
     "output_type": "stream",
     "text": [
      "t = -2.62523\n",
      "p = 0.01021\n"
     ]
    }
   ],
   "source": [
    "p = stats.t(degf).cdf(t) * 2\n",
    "\n",
    "print(f't = {t:.5f}')\n",
    "print(f'p = {p:.5f}')"
   ]
  },
  {
   "cell_type": "code",
   "execution_count": 41,
   "id": "705a14eb",
   "metadata": {},
   "outputs": [],
   "source": [
    "import pydataset as py"
   ]
  },
  {
   "cell_type": "markdown",
   "id": "fe057e10",
   "metadata": {},
   "source": [
    "Load the mpg dataset and use it to answer the following questions:\n",
    "\n",
    "Is there a difference in fuel-efficiency in cars from 2008 vs 1999?\n",
    "Are compact cars more fuel-efficient than the average car?\n",
    "Do manual cars get better gas mileage than automatic ca"
   ]
  },
  {
   "cell_type": "code",
   "execution_count": 52,
   "id": "22d383c5",
   "metadata": {},
   "outputs": [
    {
     "ename": "SyntaxError",
     "evalue": "invalid syntax (<ipython-input-52-89d332710a13>, line 8)",
     "output_type": "error",
     "traceback": [
      "\u001b[0;36m  File \u001b[0;32m\"<ipython-input-52-89d332710a13>\"\u001b[0;36m, line \u001b[0;32m8\u001b[0m\n\u001b[0;31m    xbar1 =\u001b[0m\n\u001b[0m            ^\u001b[0m\n\u001b[0;31mSyntaxError\u001b[0m\u001b[0;31m:\u001b[0m invalid syntax\n"
     ]
    }
   ],
   "source": [
    "#H0: There is no difference in fuel_efficiency in cars from 2008 vs 1999.\n",
    "#H1: There is a difference in fuel_efficiency in cars from 2008 vs 1999.\n",
    "\n"
   ]
  },
  {
   "cell_type": "code",
   "execution_count": 53,
   "id": "c4204486",
   "metadata": {},
   "outputs": [],
   "source": [
    "#load the mpg dataset\n",
    "df = data('mpg')"
   ]
  },
  {
   "cell_type": "code",
   "execution_count": 50,
   "id": "11d496e6",
   "metadata": {},
   "outputs": [
    {
     "data": {
      "text/html": [
       "<div>\n",
       "<style scoped>\n",
       "    .dataframe tbody tr th:only-of-type {\n",
       "        vertical-align: middle;\n",
       "    }\n",
       "\n",
       "    .dataframe tbody tr th {\n",
       "        vertical-align: top;\n",
       "    }\n",
       "\n",
       "    .dataframe thead th {\n",
       "        text-align: right;\n",
       "    }\n",
       "</style>\n",
       "<table border=\"1\" class=\"dataframe\">\n",
       "  <thead>\n",
       "    <tr style=\"text-align: right;\">\n",
       "      <th></th>\n",
       "      <th>manufacturer</th>\n",
       "      <th>model</th>\n",
       "      <th>displ</th>\n",
       "      <th>year</th>\n",
       "      <th>cyl</th>\n",
       "      <th>trans</th>\n",
       "      <th>drv</th>\n",
       "      <th>cty</th>\n",
       "      <th>hwy</th>\n",
       "      <th>fl</th>\n",
       "      <th>class</th>\n",
       "    </tr>\n",
       "  </thead>\n",
       "  <tbody>\n",
       "    <tr>\n",
       "      <th>1</th>\n",
       "      <td>audi</td>\n",
       "      <td>a4</td>\n",
       "      <td>1.8</td>\n",
       "      <td>1999</td>\n",
       "      <td>4</td>\n",
       "      <td>auto(l5)</td>\n",
       "      <td>f</td>\n",
       "      <td>18</td>\n",
       "      <td>29</td>\n",
       "      <td>p</td>\n",
       "      <td>compact</td>\n",
       "    </tr>\n",
       "    <tr>\n",
       "      <th>2</th>\n",
       "      <td>audi</td>\n",
       "      <td>a4</td>\n",
       "      <td>1.8</td>\n",
       "      <td>1999</td>\n",
       "      <td>4</td>\n",
       "      <td>manual(m5)</td>\n",
       "      <td>f</td>\n",
       "      <td>21</td>\n",
       "      <td>29</td>\n",
       "      <td>p</td>\n",
       "      <td>compact</td>\n",
       "    </tr>\n",
       "    <tr>\n",
       "      <th>3</th>\n",
       "      <td>audi</td>\n",
       "      <td>a4</td>\n",
       "      <td>2.0</td>\n",
       "      <td>2008</td>\n",
       "      <td>4</td>\n",
       "      <td>manual(m6)</td>\n",
       "      <td>f</td>\n",
       "      <td>20</td>\n",
       "      <td>31</td>\n",
       "      <td>p</td>\n",
       "      <td>compact</td>\n",
       "    </tr>\n",
       "    <tr>\n",
       "      <th>4</th>\n",
       "      <td>audi</td>\n",
       "      <td>a4</td>\n",
       "      <td>2.0</td>\n",
       "      <td>2008</td>\n",
       "      <td>4</td>\n",
       "      <td>auto(av)</td>\n",
       "      <td>f</td>\n",
       "      <td>21</td>\n",
       "      <td>30</td>\n",
       "      <td>p</td>\n",
       "      <td>compact</td>\n",
       "    </tr>\n",
       "    <tr>\n",
       "      <th>5</th>\n",
       "      <td>audi</td>\n",
       "      <td>a4</td>\n",
       "      <td>2.8</td>\n",
       "      <td>1999</td>\n",
       "      <td>6</td>\n",
       "      <td>auto(l5)</td>\n",
       "      <td>f</td>\n",
       "      <td>16</td>\n",
       "      <td>26</td>\n",
       "      <td>p</td>\n",
       "      <td>compact</td>\n",
       "    </tr>\n",
       "  </tbody>\n",
       "</table>\n",
       "</div>"
      ],
      "text/plain": [
       "  manufacturer model  displ  year  cyl       trans drv  cty  hwy fl    class\n",
       "1         audi    a4    1.8  1999    4    auto(l5)   f   18   29  p  compact\n",
       "2         audi    a4    1.8  1999    4  manual(m5)   f   21   29  p  compact\n",
       "3         audi    a4    2.0  2008    4  manual(m6)   f   20   31  p  compact\n",
       "4         audi    a4    2.0  2008    4    auto(av)   f   21   30  p  compact\n",
       "5         audi    a4    2.8  1999    6    auto(l5)   f   16   26  p  compact"
      ]
     },
     "execution_count": 50,
     "metadata": {},
     "output_type": "execute_result"
    }
   ],
   "source": [
    "df.head()"
   ]
  },
  {
   "cell_type": "code",
   "execution_count": 51,
   "id": "6188b019",
   "metadata": {},
   "outputs": [],
   "source": [
    "= df[df.year == 2008]\n",
    "= df[df.year == 1999]\n",
    "stats.ttest.ind formula find this"
   ]
  },
  {
   "cell_type": "code",
   "execution_count": null,
   "id": "3f02d458",
   "metadata": {},
   "outputs": [],
   "source": []
  },
  {
   "cell_type": "code",
   "execution_count": null,
   "id": "66f9ff1a",
   "metadata": {},
   "outputs": [],
   "source": []
  },
  {
   "cell_type": "code",
   "execution_count": null,
   "id": "f00580ba",
   "metadata": {},
   "outputs": [],
   "source": []
  }
 ],
 "metadata": {
  "kernelspec": {
   "display_name": "Python 3",
   "language": "python",
   "name": "python3"
  },
  "language_info": {
   "codemirror_mode": {
    "name": "ipython",
    "version": 3
   },
   "file_extension": ".py",
   "mimetype": "text/x-python",
   "name": "python",
   "nbconvert_exporter": "python",
   "pygments_lexer": "ipython3",
   "version": "3.8.8"
  }
 },
 "nbformat": 4,
 "nbformat_minor": 5
}
