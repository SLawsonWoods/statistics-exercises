{
 "cells": [
  {
   "cell_type": "code",
   "execution_count": 3,
   "id": "e2fafae2",
   "metadata": {},
   "outputs": [],
   "source": [
    "import numpy as np\n",
    "import pandas as pd"
   ]
  },
  {
   "cell_type": "code",
   "execution_count": null,
   "id": "7684e820",
   "metadata": {},
   "outputs": [],
   "source": [
    "Practice"
   ]
  },
  {
   "cell_type": "code",
   "execution_count": 4,
   "id": "59ca59ab",
   "metadata": {},
   "outputs": [
    {
     "data": {
      "text/plain": [
       "array([[6, 3, 4],\n",
       "       [4, 4, 2],\n",
       "       [4, 4, 5],\n",
       "       ...,\n",
       "       [5, 5, 4],\n",
       "       [5, 5, 6],\n",
       "       [1, 1, 4]])"
      ]
     },
     "execution_count": 4,
     "metadata": {},
     "output_type": "execute_result"
    }
   ],
   "source": [
    "n_trials = nrows = 10_000\n",
    "n_dice = ncols = 3\n",
    "\n",
    "rolls = np.random.choice([1, 2, 3, 4, 5, 6], n_trials * n_dice).reshape(nrows, ncols)\n",
    "rolls"
   ]
  },
  {
   "cell_type": "code",
   "execution_count": 9,
   "id": "8b9cf2b6",
   "metadata": {},
   "outputs": [
    {
     "data": {
      "text/plain": [
       "array([13, 10, 13, ..., 14, 16,  6])"
      ]
     },
     "execution_count": 9,
     "metadata": {},
     "output_type": "execute_result"
    }
   ],
   "source": [
    "sums_by_trial = rolls.sum(axis=1)\n",
    "sums_by_trial"
   ]
  },
  {
   "cell_type": "code",
   "execution_count": 10,
   "id": "f0516213",
   "metadata": {},
   "outputs": [
    {
     "data": {
      "text/plain": [
       "array([ True, False,  True, ...,  True,  True, False])"
      ]
     },
     "execution_count": 10,
     "metadata": {},
     "output_type": "execute_result"
    }
   ],
   "source": [
    "wins = sums_by_trial > 12\n",
    "wins"
   ]
  },
  {
   "cell_type": "code",
   "execution_count": 11,
   "id": "ff008355",
   "metadata": {},
   "outputs": [
    {
     "data": {
      "text/plain": [
       "0.2563"
      ]
     },
     "execution_count": 11,
     "metadata": {},
     "output_type": "execute_result"
    }
   ],
   "source": [
    "win_rate = wins.astype(int).mean()\n",
    "win_rate"
   ]
  },
  {
   "cell_type": "code",
   "execution_count": 12,
   "id": "ee069c93",
   "metadata": {},
   "outputs": [
    {
     "data": {
      "text/plain": [
       "-1.1555000000000004"
      ]
     },
     "execution_count": 12,
     "metadata": {},
     "output_type": "execute_result"
    }
   ],
   "source": [
    "expected_winnings = win_rate * 15\n",
    "cost = 5\n",
    "expected_profit = expected_winnings - cost\n",
    "expected_profit"
   ]
  },
  {
   "cell_type": "code",
   "execution_count": 17,
   "id": "ffaa3d87",
   "metadata": {},
   "outputs": [],
   "source": [
    "## Exercises"
   ]
  },
  {
   "cell_type": "code",
   "execution_count": 34,
   "id": "897ffd5d",
   "metadata": {},
   "outputs": [],
   "source": [
    "## 1. How likely is it that you roll doubles when rolling two dice?\n",
    "# Step 1: represent data\n",
    "outcomes = [1,2,3,4,5,6]\n",
    "#Step 2: create matrix\n",
    "n_simulations = n_rows1 = 1_000_000\n",
    "roll1 = np.random.choice(outcomes, n_simulations)\n",
    "roll2 = np.random.choice(outcomes, n_simulations)\n"
   ]
  },
  {
   "cell_type": "code",
   "execution_count": 35,
   "id": "a30cbae3",
   "metadata": {},
   "outputs": [
    {
     "data": {
      "text/plain": [
       "array([2, 3, 3, ..., 6, 3, 2])"
      ]
     },
     "execution_count": 35,
     "metadata": {},
     "output_type": "execute_result"
    }
   ],
   "source": [
    "roll1"
   ]
  },
  {
   "cell_type": "code",
   "execution_count": 36,
   "id": "7cb2242a",
   "metadata": {},
   "outputs": [
    {
     "data": {
      "text/plain": [
       "array([3, 1, 5, ..., 6, 4, 6])"
      ]
     },
     "execution_count": 36,
     "metadata": {},
     "output_type": "execute_result"
    }
   ],
   "source": [
    "roll2"
   ]
  },
  {
   "cell_type": "code",
   "execution_count": 37,
   "id": "2c698ea6",
   "metadata": {},
   "outputs": [],
   "source": [
    "# Step 3: apply a row-wise aggregate\n",
    "# compare die results to find when they are doubles\n",
    "doubles = roll1 == roll2"
   ]
  },
  {
   "cell_type": "code",
   "execution_count": 38,
   "id": "007a1b88",
   "metadata": {},
   "outputs": [
    {
     "data": {
      "text/plain": [
       "0.166295"
      ]
     },
     "execution_count": 38,
     "metadata": {},
     "output_type": "execute_result"
    }
   ],
   "source": [
    "doubles.mean()"
   ]
  },
  {
   "cell_type": "code",
   "execution_count": 49,
   "id": "379a5fd5",
   "metadata": {},
   "outputs": [
    {
     "data": {
      "text/plain": [
       "array([[0, 1, 1, ..., 1, 1, 1],\n",
       "       [1, 1, 0, ..., 0, 1, 1],\n",
       "       [0, 0, 1, ..., 0, 0, 0],\n",
       "       ...,\n",
       "       [0, 1, 1, ..., 0, 0, 1],\n",
       "       [1, 0, 1, ..., 0, 1, 0],\n",
       "       [1, 1, 0, ..., 0, 0, 0]])"
      ]
     },
     "execution_count": 49,
     "metadata": {},
     "output_type": "execute_result"
    }
   ],
   "source": [
    "## 2. If you flip 8 coins, what is the probability of getting exactly 3 heads? What is the \n",
    "## probability of getting more than 3 heads?\n",
    "# Step 1: represent the data\n",
    "# 1 represents heads and 0 tails\n",
    "outcomes2 = [1, 0]\n",
    "# Step 2: create matrix\n",
    "n_sims = 1_000_000\n",
    "n_trials2 = 8\n",
    "flips = np.random.choice(outcomes2, size=(n_sims, n_trials2))\n",
    "flips"
   ]
  },
  {
   "cell_type": "code",
   "execution_count": 52,
   "id": "3cc7afac",
   "metadata": {},
   "outputs": [],
   "source": [
    "num_of_heads = flips.sum(axis=1)"
   ]
  },
  {
   "cell_type": "code",
   "execution_count": 54,
   "id": "b0205aea",
   "metadata": {},
   "outputs": [
    {
     "data": {
      "text/plain": [
       "0.218242"
      ]
     },
     "execution_count": 54,
     "metadata": {},
     "output_type": "execute_result"
    }
   ],
   "source": [
    "# what's the probability of rolling a 3?\n",
    "\n",
    "(num_of_heads == 3).mean()"
   ]
  },
  {
   "cell_type": "code",
   "execution_count": 55,
   "id": "2487b178",
   "metadata": {},
   "outputs": [
    {
     "data": {
      "text/plain": [
       "0.636983"
      ]
     },
     "execution_count": 55,
     "metadata": {},
     "output_type": "execute_result"
    }
   ],
   "source": [
    "(num_of_heads > 3).mean()"
   ]
  },
  {
   "cell_type": "code",
   "execution_count": 56,
   "id": "c72352b9",
   "metadata": {},
   "outputs": [
    {
     "data": {
      "text/plain": [
       "array([6, 5, 2, ..., 4, 4, 3])"
      ]
     },
     "execution_count": 56,
     "metadata": {},
     "output_type": "execute_result"
    }
   ],
   "source": [
    "num_of_heads"
   ]
  },
  {
   "cell_type": "code",
   "execution_count": 58,
   "id": "8f952257",
   "metadata": {},
   "outputs": [
    {
     "data": {
      "text/plain": [
       "array([False, False, False, ..., False, False,  True])"
      ]
     },
     "execution_count": 58,
     "metadata": {},
     "output_type": "execute_result"
    }
   ],
   "source": [
    "num_of_heads == 3"
   ]
  },
  {
   "cell_type": "markdown",
   "id": "3a258e09",
   "metadata": {},
   "source": [
    "## 3. There are approximitely 3 web development cohorts for every 1 data science cohort at Codeup.\n",
    "## Assuming that Codeup randomly selects an alumni to put on a billboard, what are the odds \n",
    "## that the two billboards I drive past both have data science students on them?\n"
   ]
  },
  {
   "cell_type": "code",
   "execution_count": 59,
   "id": "6c98187c",
   "metadata": {},
   "outputs": [
    {
     "data": {
      "text/plain": [
       "array([[0, 0],\n",
       "       [0, 0],\n",
       "       [0, 0],\n",
       "       ...,\n",
       "       [0, 1],\n",
       "       [1, 1],\n",
       "       [1, 1]])"
      ]
     },
     "execution_count": 59,
     "metadata": {},
     "output_type": "execute_result"
    }
   ],
   "source": [
    "# 1 equals ds and 0 equal web dev\n",
    "outcomes = [1,0]\n",
    "sims3 = 10_000\n",
    "trials3 = 2\n",
    "students = np.random.choice(outcomes, size =(sims3, trials3), p=[.25,.75])\n",
    "students"
   ]
  },
  {
   "cell_type": "code",
   "execution_count": 60,
   "id": "2a77d991",
   "metadata": {},
   "outputs": [],
   "source": [
    "num_ds = students.sum(axis=1)"
   ]
  },
  {
   "cell_type": "code",
   "execution_count": 62,
   "id": "f8f48368",
   "metadata": {},
   "outputs": [
    {
     "data": {
      "text/plain": [
       "array([False, False, False, ..., False,  True,  True])"
      ]
     },
     "execution_count": 62,
     "metadata": {},
     "output_type": "execute_result"
    }
   ],
   "source": [
    "num_ds == 2"
   ]
  },
  {
   "cell_type": "code",
   "execution_count": 63,
   "id": "1bf18375",
   "metadata": {},
   "outputs": [
    {
     "data": {
      "text/plain": [
       "0.0683"
      ]
     },
     "execution_count": 63,
     "metadata": {},
     "output_type": "execute_result"
    }
   ],
   "source": [
    "(num_ds == 2).mean()"
   ]
  },
  {
   "cell_type": "code",
   "execution_count": 64,
   "id": "54bfc6af",
   "metadata": {},
   "outputs": [
    {
     "data": {
      "text/plain": [
       "0.0625"
      ]
     },
     "execution_count": 64,
     "metadata": {},
     "output_type": "execute_result"
    }
   ],
   "source": [
    ".25 * .25"
   ]
  },
  {
   "cell_type": "markdown",
   "id": "5a873787",
   "metadata": {},
   "source": [
    "Codeup students buy, on average, 3 poptart packages (+- 1.5) a day from the snack vending machine. If on monday the machine is restocked with 17 poptart packages, how likely is it that I will be able to buy some poptarts on Friday afternoon?"
   ]
  },
  {
   "cell_type": "code",
   "execution_count": 69,
   "id": "abb362c2",
   "metadata": {},
   "outputs": [],
   "source": [
    "np.random.normal(100, 20)\n",
    "n_trials4 = 5\n",
    "n_sims4 = 1_000_000\n",
    "consumed = np.random.normal(3, 1.5,size = (n_sims4,n_trials4))"
   ]
  },
  {
   "cell_type": "markdown",
   "id": "703092c7",
   "metadata": {},
   "source": [
    "num_of_poptarts = consumed.sum(axis=1)"
   ]
  },
  {
   "cell_type": "code",
   "execution_count": 70,
   "id": "94d35512",
   "metadata": {},
   "outputs": [],
   "source": [
    "num_of_poptarts = consumed.sum(axis=1)"
   ]
  },
  {
   "cell_type": "code",
   "execution_count": 71,
   "id": "aee22d3e",
   "metadata": {},
   "outputs": [
    {
     "data": {
      "text/plain": [
       "array([12.73430043, 14.4765758 , 11.88088652, ..., 12.87529284,\n",
       "       16.03876367, 18.29465218])"
      ]
     },
     "execution_count": 71,
     "metadata": {},
     "output_type": "execute_result"
    }
   ],
   "source": [
    "num_of_poptarts"
   ]
  },
  {
   "cell_type": "code",
   "execution_count": 72,
   "id": "255a8a2c",
   "metadata": {},
   "outputs": [
    {
     "data": {
      "text/plain": [
       "array([ True,  True,  True, ...,  True, False, False])"
      ]
     },
     "execution_count": 72,
     "metadata": {},
     "output_type": "execute_result"
    }
   ],
   "source": [
    "num_of_poptarts <= 16"
   ]
  },
  {
   "cell_type": "code",
   "execution_count": 74,
   "id": "4bea6e21",
   "metadata": {},
   "outputs": [
    {
     "data": {
      "text/plain": [
       "0.617403"
      ]
     },
     "execution_count": 74,
     "metadata": {},
     "output_type": "execute_result"
    }
   ],
   "source": [
    "(num_of_poptarts <= 16).mean()"
   ]
  },
  {
   "cell_type": "markdown",
   "id": "282f344a",
   "metadata": {},
   "source": [
    "Compare Heights\n",
    "\n",
    "Men have an average height of 178 cm and standard deviation of 8cm.\n",
    "Women have a mean of 170, sd = 6cm.\n",
    "Since you have means and standard deviations, you can use np.random.normal to generate observations.\n",
    "If a man and woman are chosen at random, P(woman taller than man)?"
   ]
  },
  {
   "cell_type": "code",
   "execution_count": 76,
   "id": "cc3f672e",
   "metadata": {},
   "outputs": [
    {
     "data": {
      "text/plain": [
       "array([[190.44625776],\n",
       "       [185.57481111],\n",
       "       [172.12921489],\n",
       "       ...,\n",
       "       [183.88924651],\n",
       "       [151.59090595],\n",
       "       [185.65524247]])"
      ]
     },
     "execution_count": 76,
     "metadata": {},
     "output_type": "execute_result"
    }
   ],
   "source": [
    "# man\n",
    "n_trials5 = 1\n",
    "n_sims5 = 1_000_000\n",
    "\n",
    "men = np.random.normal(178, 8, size=(n_sims5, n_trials5))\n",
    "men"
   ]
  },
  {
   "cell_type": "code",
   "execution_count": 77,
   "id": "7cde978a",
   "metadata": {},
   "outputs": [
    {
     "data": {
      "text/plain": [
       "array([[175.69331959],\n",
       "       [161.31116263],\n",
       "       [173.64072859],\n",
       "       ...,\n",
       "       [166.27709758],\n",
       "       [172.73505861],\n",
       "       [170.06101653]])"
      ]
     },
     "execution_count": 77,
     "metadata": {},
     "output_type": "execute_result"
    }
   ],
   "source": [
    "# woman\n",
    "n_trials6 = 1\n",
    "n_sims6 = 1_000_000\n",
    "\n",
    "women = np.random.normal(170, 6, size=(n_sims6, n_trials6))\n",
    "women"
   ]
  },
  {
   "cell_type": "code",
   "execution_count": 78,
   "id": "bed99a72",
   "metadata": {},
   "outputs": [
    {
     "data": {
      "text/plain": [
       "0.212088"
      ]
     },
     "execution_count": 78,
     "metadata": {},
     "output_type": "execute_result"
    }
   ],
   "source": [
    "(women > men).mean()"
   ]
  },
  {
   "cell_type": "markdown",
   "id": "82963f5e",
   "metadata": {},
   "source": [
    "6. When installing anaconda on a student's computer, there's a 1 in 250 chance that the download is corrupted and the installation fails. What are the odds that after having 50 \n",
    "students download anaconda, no one has an installation issue? 100 students?\n",
    "\n",
    "What is the probability that we observe an installation issue within the first 150 \n",
    "students that download anaconda?\n",
    "\n",
    "How likely is it that 450 students all download anaconda without an issue?"
   ]
  },
  {
   "cell_type": "code",
   "execution_count": 121,
   "id": "200951c8",
   "metadata": {},
   "outputs": [
    {
     "data": {
      "text/plain": [
       "array([[0, 0, 0, ..., 0, 0, 0],\n",
       "       [0, 0, 0, ..., 0, 0, 0],\n",
       "       [0, 0, 0, ..., 0, 0, 0],\n",
       "       ...,\n",
       "       [0, 0, 0, ..., 0, 0, 0],\n",
       "       [0, 0, 0, ..., 0, 0, 0],\n",
       "       [0, 0, 0, ..., 0, 0, 0]])"
      ]
     },
     "execution_count": 121,
     "metadata": {},
     "output_type": "execute_result"
    }
   ],
   "source": [
    "# 1 equals corrupt, 0 equals no issue\n",
    "outcome7 = [1,0]\n",
    "n_sims7 = 10_000\n",
    "n_trials7 = 50\n",
    "\n",
    "corrupt = np.random.choice(outcome7, size=(n_sims7,n_trials7), p=[.004,.996])\n",
    "corrupt"
   ]
  },
  {
   "cell_type": "code",
   "execution_count": 122,
   "id": "d5d34ca8",
   "metadata": {},
   "outputs": [
    {
     "data": {
      "text/plain": [
       "0.004"
      ]
     },
     "execution_count": 122,
     "metadata": {},
     "output_type": "execute_result"
    }
   ],
   "source": [
    "1/250"
   ]
  },
  {
   "cell_type": "code",
   "execution_count": 123,
   "id": "93fc10de",
   "metadata": {},
   "outputs": [],
   "source": [
    "n_times_corrupt =(corrupt.sum(axis=1))"
   ]
  },
  {
   "cell_type": "code",
   "execution_count": 125,
   "id": "76b6c790",
   "metadata": {},
   "outputs": [
    {
     "data": {
      "text/plain": [
       "0.8147"
      ]
     },
     "execution_count": 125,
     "metadata": {},
     "output_type": "execute_result"
    }
   ],
   "source": [
    "1-(n_times_corrupt >= 1).mean()"
   ]
  },
  {
   "cell_type": "code",
   "execution_count": 127,
   "id": "1c85a235",
   "metadata": {},
   "outputs": [
    {
     "data": {
      "text/plain": [
       "0.6694"
      ]
     },
     "execution_count": 127,
     "metadata": {},
     "output_type": "execute_result"
    }
   ],
   "source": [
    "outcome7 = [1,0]\n",
    "n_sims7 = 10_000\n",
    "n_trials7 = 100\n",
    "\n",
    "corrupt = np.random.choice(outcome7, size=(n_sims7,n_trials7), p=[.004,.996])\n",
    "n_times_corrupt =(corrupt.sum(axis=1))\n",
    "1-(n_times_corrupt >= 1).mean()"
   ]
  },
  {
   "cell_type": "code",
   "execution_count": 129,
   "id": "a6962f17",
   "metadata": {},
   "outputs": [
    {
     "data": {
      "text/plain": [
       "0.55"
      ]
     },
     "execution_count": 129,
     "metadata": {},
     "output_type": "execute_result"
    }
   ],
   "source": [
    "outcome7 = [1,0]\n",
    "n_sims7 = 10_000\n",
    "n_trials7 = 150\n",
    "\n",
    "corrupt = np.random.choice(outcome7, size=(n_sims7,n_trials7), p=[.004,.996])\n",
    "n_times_corrupt =(corrupt.sum(axis=1))\n",
    "1-(n_times_corrupt >= 1).mean()"
   ]
  },
  {
   "cell_type": "code",
   "execution_count": 130,
   "id": "72da828e",
   "metadata": {},
   "outputs": [
    {
     "data": {
      "text/plain": [
       "0.16269999999999996"
      ]
     },
     "execution_count": 130,
     "metadata": {},
     "output_type": "execute_result"
    }
   ],
   "source": [
    "outcome7 = [1,0]\n",
    "n_sims7 = 10_000\n",
    "n_trials7 = 450\n",
    "\n",
    "corrupt = np.random.choice(outcome7, size=(n_sims7,n_trials7), p=[.004,.996])\n",
    "n_times_corrupt =(corrupt.sum(axis=1))\n",
    "1-(n_times_corrupt >= 1).mean()"
   ]
  },
  {
   "cell_type": "code",
   "execution_count": null,
   "id": "ccac6fe9",
   "metadata": {},
   "outputs": [],
   "source": []
  }
 ],
 "metadata": {
  "kernelspec": {
   "display_name": "Python 3",
   "language": "python",
   "name": "python3"
  },
  "language_info": {
   "codemirror_mode": {
    "name": "ipython",
    "version": 3
   },
   "file_extension": ".py",
   "mimetype": "text/x-python",
   "name": "python",
   "nbconvert_exporter": "python",
   "pygments_lexer": "ipython3",
   "version": "3.8.8"
  }
 },
 "nbformat": 4,
 "nbformat_minor": 5
}
