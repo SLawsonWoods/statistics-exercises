{
 "cells": [
  {
   "cell_type": "code",
   "execution_count": 175,
   "id": "2182c300",
   "metadata": {},
   "outputs": [],
   "source": [
    "import numpy as np\n",
    "import pandas as pd\n",
    "import random as \n",
    "import seaborn as sns"
   ]
  },
  {
   "cell_type": "code",
   "execution_count": null,
   "id": "04f2121c",
   "metadata": {},
   "outputs": [],
   "source": [
    "Practice"
   ]
  },
  {
   "cell_type": "code",
   "execution_count": 4,
   "id": "59ca59ab",
   "metadata": {},
   "outputs": [
    {
     "data": {
      "text/plain": [
       "array([[6, 3, 4],\n",
       "       [4, 4, 2],\n",
       "       [4, 4, 5],\n",
       "       ...,\n",
       "       [5, 5, 4],\n",
       "       [5, 5, 6],\n",
       "       [1, 1, 4]])"
      ]
     },
     "execution_count": 4,
     "metadata": {},
     "output_type": "execute_result"
    }
   ],
   "source": [
    "n_trials = nrows = 10_000\n",
    "n_dice = ncols = 3\n",
    "\n",
    "rolls = np.random.choice([1, 2, 3, 4, 5, 6], n_trials * n_dice).reshape(nrows, ncols)\n",
    "rolls"
   ]
  },
  {
   "cell_type": "code",
   "execution_count": 9,
   "id": "730ee442",
   "metadata": {},
   "outputs": [
    {
     "data": {
      "text/plain": [
       "array([13, 10, 13, ..., 14, 16,  6])"
      ]
     },
     "execution_count": 9,
     "metadata": {},
     "output_type": "execute_result"
    }
   ],
   "source": [
    "sums_by_trial = rolls.sum(axis=1)\n",
    "sums_by_trial"
   ]
  },
  {
   "cell_type": "code",
   "execution_count": 10,
   "id": "1df60cef",
   "metadata": {},
   "outputs": [
    {
     "data": {
      "text/plain": [
       "array([ True, False,  True, ...,  True,  True, False])"
      ]
     },
     "execution_count": 10,
     "metadata": {},
     "output_type": "execute_result"
    }
   ],
   "source": [
    "wins = sums_by_trial > 12\n",
    "wins"
   ]
  },
  {
   "cell_type": "code",
   "execution_count": 11,
   "id": "411fcbeb",
   "metadata": {},
   "outputs": [
    {
     "data": {
      "text/plain": [
       "0.2563"
      ]
     },
     "execution_count": 11,
     "metadata": {},
     "output_type": "execute_result"
    }
   ],
   "source": [
    "win_rate = wins.astype(int).mean()\n",
    "win_rate"
   ]
  },
  {
   "cell_type": "code",
   "execution_count": 12,
   "id": "94b7bfaf",
   "metadata": {},
   "outputs": [
    {
     "data": {
      "text/plain": [
       "-1.1555000000000004"
      ]
     },
     "execution_count": 12,
     "metadata": {},
     "output_type": "execute_result"
    }
   ],
   "source": [
    "expected_winnings = win_rate * 15\n",
    "cost = 5\n",
    "expected_profit = expected_winnings - cost\n",
    "expected_profit"
   ]
  },
  {
   "cell_type": "code",
   "execution_count": 17,
   "id": "1bb6d20f",
   "metadata": {},
   "outputs": [],
   "source": [
    "########################################################## Exercises"
   ]
  },
  {
   "cell_type": "code",
   "execution_count": 34,
   "id": "360b72d0",
   "metadata": {},
   "outputs": [],
   "source": [
    "## 1. How likely is it that you roll doubles when rolling two dice?\n",
    "# Step 1: represent data\n",
    "outcomes = [1,2,3,4,5,6]\n",
    "#Step 2: create matrix\n",
    "n_simulations = n_rows1 = 1_000_000\n",
    "roll1 = np.random.choice(outcomes, n_simulations)\n",
    "roll2 = np.random.choice(outcomes, n_simulations)\n"
   ]
  },
  {
   "cell_type": "code",
   "execution_count": 35,
   "id": "87e6bb0c",
   "metadata": {},
   "outputs": [
    {
     "data": {
      "text/plain": [
       "array([2, 3, 3, ..., 6, 3, 2])"
      ]
     },
     "execution_count": 35,
     "metadata": {},
     "output_type": "execute_result"
    }
   ],
   "source": [
    "roll1"
   ]
  },
  {
   "cell_type": "code",
   "execution_count": 36,
   "id": "462f2bea",
   "metadata": {},
   "outputs": [
    {
     "data": {
      "text/plain": [
       "array([3, 1, 5, ..., 6, 4, 6])"
      ]
     },
     "execution_count": 36,
     "metadata": {},
     "output_type": "execute_result"
    }
   ],
   "source": [
    "roll2"
   ]
  },
  {
   "cell_type": "code",
   "execution_count": 37,
   "id": "b039c586",
   "metadata": {},
   "outputs": [],
   "source": [
    "# Step 3: apply a row-wise aggregate\n",
    "# compare die results to find when they are doubles\n",
    "doubles = roll1 == roll2"
   ]
  },
  {
   "cell_type": "code",
   "execution_count": 38,
   "id": "ab5294f9",
   "metadata": {},
   "outputs": [
    {
     "data": {
      "text/plain": [
       "0.166295"
      ]
     },
     "execution_count": 38,
     "metadata": {},
     "output_type": "execute_result"
    }
   ],
   "source": [
    "doubles.mean()"
   ]
  },
  {
   "cell_type": "code",
   "execution_count": 49,
   "id": "b8668b64",
   "metadata": {},
   "outputs": [
    {
     "data": {
      "text/plain": [
       "array([[0, 1, 1, ..., 1, 1, 1],\n",
       "       [1, 1, 0, ..., 0, 1, 1],\n",
       "       [0, 0, 1, ..., 0, 0, 0],\n",
       "       ...,\n",
       "       [0, 1, 1, ..., 0, 0, 1],\n",
       "       [1, 0, 1, ..., 0, 1, 0],\n",
       "       [1, 1, 0, ..., 0, 0, 0]])"
      ]
     },
     "execution_count": 49,
     "metadata": {},
     "output_type": "execute_result"
    }
   ],
   "source": [
    "## 2. If you flip 8 coins, what is the probability of getting exactly 3 heads? What is the \n",
    "## probability of getting more than 3 heads?\n",
    "# Step 1: represent the data\n",
    "# 1 represents heads and 0 tails\n",
    "outcomes2 = [1, 0]\n",
    "# Step 2: create matrix\n",
    "n_sims = 1_000_000\n",
    "n_trials2 = 8\n",
    "flips = np.random.choice(outcomes2, size=(n_sims, n_trials2))\n",
    "flips"
   ]
  },
  {
   "cell_type": "code",
   "execution_count": 52,
   "id": "76801d23",
   "metadata": {},
   "outputs": [],
   "source": [
    "num_of_heads = flips.sum(axis=1)"
   ]
  },
  {
   "cell_type": "code",
   "execution_count": 54,
   "id": "b3e2e353",
   "metadata": {},
   "outputs": [
    {
     "data": {
      "text/plain": [
       "0.218242"
      ]
     },
     "execution_count": 54,
     "metadata": {},
     "output_type": "execute_result"
    }
   ],
   "source": [
    "# what's the probability of rolling a 3?\n",
    "\n",
    "(num_of_heads == 3).mean()"
   ]
  },
  {
   "cell_type": "code",
   "execution_count": 55,
   "id": "454c9353",
   "metadata": {},
   "outputs": [
    {
     "data": {
      "text/plain": [
       "0.636983"
      ]
     },
     "execution_count": 55,
     "metadata": {},
     "output_type": "execute_result"
    }
   ],
   "source": [
    "(num_of_heads > 3).mean()"
   ]
  },
  {
   "cell_type": "code",
   "execution_count": 56,
   "id": "e6497426",
   "metadata": {},
   "outputs": [
    {
     "data": {
      "text/plain": [
       "array([6, 5, 2, ..., 4, 4, 3])"
      ]
     },
     "execution_count": 56,
     "metadata": {},
     "output_type": "execute_result"
    }
   ],
   "source": [
    "num_of_heads"
   ]
  },
  {
   "cell_type": "code",
   "execution_count": 58,
   "id": "824fdcfc",
   "metadata": {},
   "outputs": [
    {
     "data": {
      "text/plain": [
       "array([False, False, False, ..., False, False,  True])"
      ]
     },
     "execution_count": 58,
     "metadata": {},
     "output_type": "execute_result"
    }
   ],
   "source": [
    "num_of_heads == 3"
   ]
  },
  {
   "cell_type": "markdown",
   "id": "7e7ac795",
   "metadata": {},
   "source": [
    "## 3. There are approximitely 3 web development cohorts for every 1 data science cohort at Codeup.\n",
    "## Assuming that Codeup randomly selects an alumni to put on a billboard, what are the odds \n",
    "## that the two billboards I drive past both have data science students on them?\n"
   ]
  },
  {
   "cell_type": "code",
   "execution_count": 59,
   "id": "bacf9339",
   "metadata": {},
   "outputs": [
    {
     "data": {
      "text/plain": [
       "array([[0, 0],\n",
       "       [0, 0],\n",
       "       [0, 0],\n",
       "       ...,\n",
       "       [0, 1],\n",
       "       [1, 1],\n",
       "       [1, 1]])"
      ]
     },
     "execution_count": 59,
     "metadata": {},
     "output_type": "execute_result"
    }
   ],
   "source": [
    "# 1 equals ds and 0 equal web dev\n",
    "outcomes = [1,0]\n",
    "sims3 = 10_000\n",
    "trials3 = 2\n",
    "students = np.random.choice(outcomes, size =(sims3, trials3), p=[.25,.75])\n",
    "students"
   ]
  },
  {
   "cell_type": "code",
   "execution_count": 60,
   "id": "45db3583",
   "metadata": {},
   "outputs": [],
   "source": [
    "num_ds = students.sum(axis=1)"
   ]
  },
  {
   "cell_type": "code",
   "execution_count": 62,
   "id": "2e93192f",
   "metadata": {},
   "outputs": [
    {
     "data": {
      "text/plain": [
       "array([False, False, False, ..., False,  True,  True])"
      ]
     },
     "execution_count": 62,
     "metadata": {},
     "output_type": "execute_result"
    }
   ],
   "source": [
    "num_ds == 2"
   ]
  },
  {
   "cell_type": "code",
   "execution_count": 63,
   "id": "ef4c0e04",
   "metadata": {},
   "outputs": [
    {
     "data": {
      "text/plain": [
       "0.0683"
      ]
     },
     "execution_count": 63,
     "metadata": {},
     "output_type": "execute_result"
    }
   ],
   "source": [
    "(num_ds == 2).mean()"
   ]
  },
  {
   "cell_type": "code",
   "execution_count": 64,
   "id": "e6ef98f5",
   "metadata": {},
   "outputs": [
    {
     "data": {
      "text/plain": [
       "0.0625"
      ]
     },
     "execution_count": 64,
     "metadata": {},
     "output_type": "execute_result"
    }
   ],
   "source": [
    ".25 * .25"
   ]
  },
  {
   "cell_type": "markdown",
   "id": "574c01e5",
   "metadata": {},
   "source": [
    "4. Codeup students buy, on average, 3 poptart packages (+- 1.5) a day from the snack vending machine. If on monday the machine is restocked with 17 poptart packages, how likely is it that I will be able to buy some poptarts on Friday afternoon?"
   ]
  },
  {
   "cell_type": "code",
   "execution_count": 69,
   "id": "a68ff44e",
   "metadata": {},
   "outputs": [],
   "source": [
    "np.random.normal(100, 20)\n",
    "n_trials4 = 5\n",
    "n_sims4 = 1_000_000\n",
    "consumed = np.random.normal(3, 1.5,size = (n_sims4,n_trials4))"
   ]
  },
  {
   "cell_type": "markdown",
   "id": "39c9a871",
   "metadata": {},
   "source": [
    "num_of_poptarts = consumed.sum(axis=1)"
   ]
  },
  {
   "cell_type": "code",
   "execution_count": 70,
   "id": "6377758f",
   "metadata": {},
   "outputs": [],
   "source": [
    "num_of_poptarts = consumed.sum(axis=1)"
   ]
  },
  {
   "cell_type": "code",
   "execution_count": 71,
   "id": "01c28017",
   "metadata": {},
   "outputs": [
    {
     "data": {
      "text/plain": [
       "array([12.73430043, 14.4765758 , 11.88088652, ..., 12.87529284,\n",
       "       16.03876367, 18.29465218])"
      ]
     },
     "execution_count": 71,
     "metadata": {},
     "output_type": "execute_result"
    }
   ],
   "source": [
    "num_of_poptarts"
   ]
  },
  {
   "cell_type": "code",
   "execution_count": 72,
   "id": "43efc55d",
   "metadata": {},
   "outputs": [
    {
     "data": {
      "text/plain": [
       "array([ True,  True,  True, ...,  True, False, False])"
      ]
     },
     "execution_count": 72,
     "metadata": {},
     "output_type": "execute_result"
    }
   ],
   "source": [
    "num_of_poptarts <= 16"
   ]
  },
  {
   "cell_type": "code",
   "execution_count": 74,
   "id": "f56c53c7",
   "metadata": {},
   "outputs": [
    {
     "data": {
      "text/plain": [
       "0.617403"
      ]
     },
     "execution_count": 74,
     "metadata": {},
     "output_type": "execute_result"
    }
   ],
   "source": [
    "(num_of_poptarts <= 16).mean()"
   ]
  },
  {
   "cell_type": "markdown",
   "id": "6b23895c",
   "metadata": {},
   "source": [
    "5. Compare Heights\n",
    "\n",
    "Men have an average height of 178 cm and standard deviation of 8cm.\n",
    "Women have a mean of 170, sd = 6cm.\n",
    "Since you have means and standard deviations, you can use np.random.normal to generate observations.\n",
    "If a man and woman are chosen at random, P(woman taller than man)?"
   ]
  },
  {
   "cell_type": "code",
   "execution_count": 76,
   "id": "e982b617",
   "metadata": {},
   "outputs": [
    {
     "data": {
      "text/plain": [
       "array([[190.44625776],\n",
       "       [185.57481111],\n",
       "       [172.12921489],\n",
       "       ...,\n",
       "       [183.88924651],\n",
       "       [151.59090595],\n",
       "       [185.65524247]])"
      ]
     },
     "execution_count": 76,
     "metadata": {},
     "output_type": "execute_result"
    }
   ],
   "source": [
    "# man\n",
    "n_trials5 = 1\n",
    "n_sims5 = 1_000_000\n",
    "\n",
    "men = np.random.normal(178, 8, size=(n_sims5, n_trials5))\n",
    "men"
   ]
  },
  {
   "cell_type": "code",
   "execution_count": 77,
   "id": "92e6ca3b",
   "metadata": {},
   "outputs": [
    {
     "data": {
      "text/plain": [
       "array([[175.69331959],\n",
       "       [161.31116263],\n",
       "       [173.64072859],\n",
       "       ...,\n",
       "       [166.27709758],\n",
       "       [172.73505861],\n",
       "       [170.06101653]])"
      ]
     },
     "execution_count": 77,
     "metadata": {},
     "output_type": "execute_result"
    }
   ],
   "source": [
    "# woman\n",
    "n_trials6 = 1\n",
    "n_sims6 = 1_000_000\n",
    "\n",
    "women = np.random.normal(170, 6, size=(n_sims6, n_trials6))\n",
    "women"
   ]
  },
  {
   "cell_type": "code",
   "execution_count": 78,
   "id": "fb89af14",
   "metadata": {},
   "outputs": [
    {
     "data": {
      "text/plain": [
       "0.212088"
      ]
     },
     "execution_count": 78,
     "metadata": {},
     "output_type": "execute_result"
    }
   ],
   "source": [
    "(women > men).mean()"
   ]
  },
  {
   "cell_type": "markdown",
   "id": "b956ed60",
   "metadata": {},
   "source": [
    "6. When installing anaconda on a student's computer, there's a 1 in 250 chance that the download is corrupted and the installation fails. What are the odds that after having 50 \n",
    "students download anaconda, no one has an installation issue? 100 students?\n",
    "\n",
    "What is the probability that we observe an installation issue within the first 150 \n",
    "students that download anaconda?\n",
    "\n",
    "How likely is it that 450 students all download anaconda without an issue?"
   ]
  },
  {
   "cell_type": "code",
   "execution_count": 121,
   "id": "98e83b5a",
   "metadata": {},
   "outputs": [
    {
     "data": {
      "text/plain": [
       "array([[0, 0, 0, ..., 0, 0, 0],\n",
       "       [0, 0, 0, ..., 0, 0, 0],\n",
       "       [0, 0, 0, ..., 0, 0, 0],\n",
       "       ...,\n",
       "       [0, 0, 0, ..., 0, 0, 0],\n",
       "       [0, 0, 0, ..., 0, 0, 0],\n",
       "       [0, 0, 0, ..., 0, 0, 0]])"
      ]
     },
     "execution_count": 121,
     "metadata": {},
     "output_type": "execute_result"
    }
   ],
   "source": [
    "# 1 equals corrupt, 0 equals no issue\n",
    "outcome7 = [1,0]\n",
    "n_sims7 = 10_000\n",
    "n_trials7 = 50\n",
    "\n",
    "corrupt = np.random.choice(outcome7, size=(n_sims7,n_trials7), p=[.004,.996])\n",
    "corrupt"
   ]
  },
  {
   "cell_type": "code",
   "execution_count": 122,
   "id": "c4776999",
   "metadata": {},
   "outputs": [
    {
     "data": {
      "text/plain": [
       "0.004"
      ]
     },
     "execution_count": 122,
     "metadata": {},
     "output_type": "execute_result"
    }
   ],
   "source": [
    "1/250"
   ]
  },
  {
   "cell_type": "code",
   "execution_count": 123,
   "id": "49cc906a",
   "metadata": {},
   "outputs": [],
   "source": [
    "n_times_corrupt =(corrupt.sum(axis=1))"
   ]
  },
  {
   "cell_type": "code",
   "execution_count": 125,
   "id": "37ebe646",
   "metadata": {},
   "outputs": [
    {
     "data": {
      "text/plain": [
       "0.8147"
      ]
     },
     "execution_count": 125,
     "metadata": {},
     "output_type": "execute_result"
    }
   ],
   "source": [
    "1-(n_times_corrupt >= 1).mean()"
   ]
  },
  {
   "cell_type": "code",
   "execution_count": 127,
   "id": "d43f3ba1",
   "metadata": {},
   "outputs": [
    {
     "data": {
      "text/plain": [
       "0.6694"
      ]
     },
     "execution_count": 127,
     "metadata": {},
     "output_type": "execute_result"
    }
   ],
   "source": [
    "outcome7 = [1,0]\n",
    "n_sims7 = 10_000\n",
    "n_trials7 = 100\n",
    "\n",
    "corrupt = np.random.choice(outcome7, size=(n_sims7,n_trials7), p=[.004,.996])\n",
    "n_times_corrupt =(corrupt.sum(axis=1))\n",
    "1-(n_times_corrupt >= 1).mean()"
   ]
  },
  {
   "cell_type": "code",
   "execution_count": 129,
   "id": "d09eaae9",
   "metadata": {},
   "outputs": [
    {
     "data": {
      "text/plain": [
       "0.55"
      ]
     },
     "execution_count": 129,
     "metadata": {},
     "output_type": "execute_result"
    }
   ],
   "source": [
    "outcome7 = [1,0]\n",
    "n_sims7 = 10_000\n",
    "n_trials7 = 150\n",
    "\n",
    "corrupt = np.random.choice(outcome7, size=(n_sims7,n_trials7), p=[.004,.996])\n",
    "n_times_corrupt =(corrupt.sum(axis=1))\n",
    "1-(n_times_corrupt >= 1).mean()"
   ]
  },
  {
   "cell_type": "code",
   "execution_count": 130,
   "id": "9533ef3b",
   "metadata": {},
   "outputs": [
    {
     "data": {
      "text/plain": [
       "0.16269999999999996"
      ]
     },
     "execution_count": 130,
     "metadata": {},
     "output_type": "execute_result"
    }
   ],
   "source": [
    "outcome7 = [1,0]\n",
    "n_sims7 = 10_000\n",
    "n_trials7 = 450\n",
    "\n",
    "corrupt = np.random.choice(outcome7, size=(n_sims7,n_trials7), p=[.004,.996])\n",
    "n_times_corrupt =(corrupt.sum(axis=1))\n",
    "1-(n_times_corrupt >= 1).mean()"
   ]
  },
  {
   "cell_type": "markdown",
   "id": "7f8b8e79",
   "metadata": {},
   "source": [
    "7. There's a 70% chance on any given day that there will be at least one food truck at \n",
    "Travis Park. However, you haven't seen a food truck there in 3 days. How unlikely is this?"
   ]
  },
  {
   "cell_type": "code",
   "execution_count": 155,
   "id": "36e3f7bb",
   "metadata": {},
   "outputs": [
    {
     "data": {
      "text/plain": [
       "array([[0, 1, 1],\n",
       "       [1, 1, 0],\n",
       "       [0, 0, 1],\n",
       "       ...,\n",
       "       [1, 0, 1],\n",
       "       [0, 0, 0],\n",
       "       [1, 1, 1]])"
      ]
     },
     "execution_count": 155,
     "metadata": {},
     "output_type": "execute_result"
    }
   ],
   "source": [
    "# .7 chance on any day\n",
    "# .3 chance on any of 30 days there will be no food truck\n",
    "# food truck yes  equals 1, food truck no equals 0\n",
    "outcomes8 = [1,0]\n",
    "n_sims8 = 100_000\n",
    "n_trials8 = 3\n",
    "#run a simulation of the prob of truck or no truck in 30 days\n",
    "v = np.random.choice(outcomes8, size =(n_sims8, n_trials8), p=[.7,.3])\n",
    "v"
   ]
  },
  {
   "cell_type": "code",
   "execution_count": 160,
   "id": "f06a8290",
   "metadata": {},
   "outputs": [],
   "source": [
    "# what is the likelihood of no truck 3 days in a row when v = 0\n",
    "sum_of_three_days = v.sum(axis=1)"
   ]
  },
  {
   "cell_type": "code",
   "execution_count": 166,
   "id": "3fe23b6d",
   "metadata": {},
   "outputs": [],
   "source": [
    "# when the total of the three days equal 0 \n",
    "no_truck_three_days = (sum_of_three_days == 0)"
   ]
  },
  {
   "cell_type": "code",
   "execution_count": 169,
   "id": "734197a8",
   "metadata": {},
   "outputs": [
    {
     "data": {
      "text/plain": [
       "2676"
      ]
     },
     "execution_count": 169,
     "metadata": {},
     "output_type": "execute_result"
    }
   ],
   "source": [
    "#count the number of times this is true\n",
    "no_truck_three_days.sum()"
   ]
  },
  {
   "cell_type": "markdown",
   "id": "521c7dfc",
   "metadata": {},
   "source": [
    "2676/100_000"
   ]
  },
  {
   "cell_type": "code",
   "execution_count": 170,
   "id": "e6188fff",
   "metadata": {},
   "outputs": [
    {
     "data": {
      "text/plain": [
       "0.02676"
      ]
     },
     "execution_count": 170,
     "metadata": {},
     "output_type": "execute_result"
    }
   ],
   "source": [
    "#divide number of True or occurrences of 0 three times\n",
    "2676/100_000"
   ]
  },
  {
   "cell_type": "markdown",
   "id": "384906e6",
   "metadata": {},
   "source": [
    "How likely is it that the food truck will show up sometime this week?"
   ]
  },
  {
   "cell_type": "code",
   "execution_count": null,
   "id": "d29bc9cb",
   "metadata": {},
   "outputs": [],
   "source": [
    "# the remaining days\n",
    "ncols = 3"
   ]
  },
  {
   "cell_type": "code",
   "execution_count": null,
   "id": "88108a0d",
   "metadata": {},
   "outputs": [],
   "source": []
  },
  {
   "cell_type": "code",
   "execution_count": null,
   "id": "e71c894c",
   "metadata": {},
   "outputs": [],
   "source": []
  },
  {
   "cell_type": "markdown",
   "id": "8ec9667b",
   "metadata": {},
   "source": [
    "8. If 23 people are in the same room, what are the odds that two of them share a birthday? What if it's 20 people? 40?"
   ]
  },
  {
   "cell_type": "markdown",
   "id": "18f9fd17",
   "metadata": {},
   "source": [
    "people = 23\n",
    "\n",
    "days =365\n",
    "\n",
    "pairs =253\n",
    "\n",
    "chance per pair\n",
    "0.69315068493\n",
    "chance different\n",
    "49.99982478173\n",
    "chance of match\n",
    "50.00017521827"
   ]
  },
  {
   "cell_type": "code",
   "execution_count": 188,
   "id": "5b8f2977",
   "metadata": {},
   "outputs": [
    {
     "ename": "SyntaxError",
     "evalue": "invalid syntax (<ipython-input-188-db353cd3709c>, line 7)",
     "output_type": "error",
     "traceback": [
      "\u001b[0;36m  File \u001b[0;32m\"<ipython-input-188-db353cd3709c>\"\u001b[0;36m, line \u001b[0;32m7\u001b[0m\n\u001b[0;31m    pd.DataFrame(birthdays)\u001b[0m\n\u001b[0m    ^\u001b[0m\n\u001b[0;31mSyntaxError\u001b[0m\u001b[0;31m:\u001b[0m invalid syntax\n"
     ]
    }
   ],
   "source": [
    "outcomes= [\"match\",\"non_match\"]\n",
    "n_simulations9 = 100_000\n",
    "n_trials9 = 23\n",
    "birthdays = np.random.choice((r for r in range(366),outcomes, size =(n_simulations9, n_trials9)\n",
    "\n",
    "\n",
    "#add calculation columns\n",
    "df[at least two matching]  df.nunique(axis=1)< ncols\n",
    "df[exactly two matching]  df.nunique(axis=1)== ncols - 1      \n",
    "\n",
    "# then int,round, mean and * 100\n",
    "                              "
   ]
  },
  {
   "cell_type": "code",
   "execution_count": 189,
   "id": "ac67041e",
   "metadata": {},
   "outputs": [
    {
     "data": {
      "text/plain": [
       "0.0"
      ]
     },
     "execution_count": 189,
     "metadata": {},
     "output_type": "execute_result"
    }
   ],
   "source": [
    "(pd.DataFrame(birthdays)).apply(lambda row: 3 in row.values, axis=1).mean()"
   ]
  },
  {
   "cell_type": "code",
   "execution_count": 186,
   "id": "1f870e15",
   "metadata": {},
   "outputs": [
    {
     "ename": "AttributeError",
     "evalue": "'numpy.ndarray' object has no attribute 'apply'",
     "output_type": "error",
     "traceback": [
      "\u001b[0;31m---------------------------------------------------------------------------\u001b[0m",
      "\u001b[0;31mAttributeError\u001b[0m                            Traceback (most recent call last)",
      "\u001b[0;32m<ipython-input-186-5e4c44d7e605>\u001b[0m in \u001b[0;36m<module>\u001b[0;34m\u001b[0m\n\u001b[0;32m----> 1\u001b[0;31m \u001b[0mno_match\u001b[0m \u001b[0;34m=\u001b[0m \u001b[0mbirthdays\u001b[0m\u001b[0;34m.\u001b[0m\u001b[0mapply\u001b[0m\u001b[0;34m(\u001b[0m\u001b[0;32mlambda\u001b[0m \u001b[0mrow\u001b[0m\u001b[0;34m:\u001b[0m \u001b[0mrow\u001b[0m\u001b[0;34m.\u001b[0m\u001b[0mis_unique\u001b[0m \u001b[0;34m,\u001b[0m \u001b[0maxis\u001b[0m\u001b[0;34m=\u001b[0m\u001b[0;36m1\u001b[0m\u001b[0;34m)\u001b[0m\u001b[0;34m\u001b[0m\u001b[0;34m\u001b[0m\u001b[0m\n\u001b[0m",
      "\u001b[0;31mAttributeError\u001b[0m: 'numpy.ndarray' object has no attribute 'apply'"
     ]
    }
   ],
   "source": [
    "no_match = birthdays.apply(lambda row: row.is_unique , axis=1)"
   ]
  },
  {
   "cell_type": "code",
   "execution_count": null,
   "id": "8ee6f71f",
   "metadata": {},
   "outputs": [],
   "source": []
  }
 ],
 "metadata": {
  "kernelspec": {
   "display_name": "Python 3",
   "language": "python",
   "name": "python3"
  },
  "language_info": {
   "codemirror_mode": {
    "name": "ipython",
    "version": 3
   },
   "file_extension": ".py",
   "mimetype": "text/x-python",
   "name": "python",
   "nbconvert_exporter": "python",
   "pygments_lexer": "ipython3",
   "version": "3.8.8"
  }
 },
 "nbformat": 4,
 "nbformat_minor": 5
}
